{
  "nbformat": 4,
  "nbformat_minor": 0,
  "metadata": {
    "colab": {
      "provenance": [],
      "include_colab_link": true
    },
    "kernelspec": {
      "name": "python3",
      "display_name": "Python 3"
    },
    "language_info": {
      "name": "python"
    }
  },
  "cells": [
    {
      "cell_type": "markdown",
      "metadata": {
        "id": "view-in-github",
        "colab_type": "text"
      },
      "source": [
        "<a href=\"https://colab.research.google.com/github/git-mishrarushi/VedicAstro/blob/main/Kundali.ipynb\" target=\"_parent\"><img src=\"https://colab.research.google.com/assets/colab-badge.svg\" alt=\"Open In Colab\"/></a>"
      ]
    },
    {
      "cell_type": "code",
      "execution_count": 1,
      "metadata": {
        "colab": {
          "base_uri": "https://localhost:8080/"
        },
        "id": "2ue6RAhclO0R",
        "outputId": "6a78cbb4-14c3-4a6f-a4a1-e34eef08973a"
      },
      "outputs": [
        {
          "output_type": "stream",
          "name": "stdout",
          "text": [
            "Collecting vedicastro\n",
            "  Downloading vedicastro-0.2.1-py3-none-any.whl.metadata (6.7 kB)\n",
            "Requirement already satisfied: tqdm in /usr/local/lib/python3.11/dist-packages (from vedicastro) (4.67.1)\n",
            "Requirement already satisfied: polars in /usr/local/lib/python3.11/dist-packages (from vedicastro) (1.21.0)\n",
            "Requirement already satisfied: fastapi in /usr/local/lib/python3.11/dist-packages (from vedicastro) (0.115.13)\n",
            "Requirement already satisfied: uvicorn in /usr/local/lib/python3.11/dist-packages (from vedicastro) (0.34.3)\n",
            "Requirement already satisfied: prettytable in /usr/local/lib/python3.11/dist-packages (from vedicastro) (3.16.0)\n",
            "Requirement already satisfied: ipykernel in /usr/local/lib/python3.11/dist-packages (from vedicastro) (6.17.1)\n",
            "Collecting pyswisseph (from vedicastro)\n",
            "  Downloading pyswisseph-2.10.3.2-cp311-cp311-manylinux_2_17_x86_64.manylinux2014_x86_64.whl.metadata (1.9 kB)\n",
            "Requirement already satisfied: starlette<0.47.0,>=0.40.0 in /usr/local/lib/python3.11/dist-packages (from fastapi->vedicastro) (0.46.2)\n",
            "Requirement already satisfied: pydantic!=1.8,!=1.8.1,!=2.0.0,!=2.0.1,!=2.1.0,<3.0.0,>=1.7.4 in /usr/local/lib/python3.11/dist-packages (from fastapi->vedicastro) (2.11.7)\n",
            "Requirement already satisfied: typing-extensions>=4.8.0 in /usr/local/lib/python3.11/dist-packages (from fastapi->vedicastro) (4.14.0)\n",
            "Requirement already satisfied: debugpy>=1.0 in /usr/local/lib/python3.11/dist-packages (from ipykernel->vedicastro) (1.8.0)\n",
            "Requirement already satisfied: ipython>=7.23.1 in /usr/local/lib/python3.11/dist-packages (from ipykernel->vedicastro) (7.34.0)\n",
            "Requirement already satisfied: jupyter-client>=6.1.12 in /usr/local/lib/python3.11/dist-packages (from ipykernel->vedicastro) (6.1.12)\n",
            "Requirement already satisfied: matplotlib-inline>=0.1 in /usr/local/lib/python3.11/dist-packages (from ipykernel->vedicastro) (0.1.7)\n",
            "Requirement already satisfied: nest-asyncio in /usr/local/lib/python3.11/dist-packages (from ipykernel->vedicastro) (1.6.0)\n",
            "Requirement already satisfied: packaging in /usr/local/lib/python3.11/dist-packages (from ipykernel->vedicastro) (24.2)\n",
            "Requirement already satisfied: psutil in /usr/local/lib/python3.11/dist-packages (from ipykernel->vedicastro) (5.9.5)\n",
            "Requirement already satisfied: pyzmq>=17 in /usr/local/lib/python3.11/dist-packages (from ipykernel->vedicastro) (24.0.1)\n",
            "Requirement already satisfied: tornado>=6.1 in /usr/local/lib/python3.11/dist-packages (from ipykernel->vedicastro) (6.4.2)\n",
            "Requirement already satisfied: traitlets>=5.1.0 in /usr/local/lib/python3.11/dist-packages (from ipykernel->vedicastro) (5.7.1)\n",
            "Requirement already satisfied: wcwidth in /usr/local/lib/python3.11/dist-packages (from prettytable->vedicastro) (0.2.13)\n",
            "Requirement already satisfied: click>=7.0 in /usr/local/lib/python3.11/dist-packages (from uvicorn->vedicastro) (8.2.1)\n",
            "Requirement already satisfied: h11>=0.8 in /usr/local/lib/python3.11/dist-packages (from uvicorn->vedicastro) (0.16.0)\n",
            "Requirement already satisfied: setuptools>=18.5 in /usr/local/lib/python3.11/dist-packages (from ipython>=7.23.1->ipykernel->vedicastro) (75.2.0)\n",
            "Collecting jedi>=0.16 (from ipython>=7.23.1->ipykernel->vedicastro)\n",
            "  Downloading jedi-0.19.2-py2.py3-none-any.whl.metadata (22 kB)\n",
            "Requirement already satisfied: decorator in /usr/local/lib/python3.11/dist-packages (from ipython>=7.23.1->ipykernel->vedicastro) (4.4.2)\n",
            "Requirement already satisfied: pickleshare in /usr/local/lib/python3.11/dist-packages (from ipython>=7.23.1->ipykernel->vedicastro) (0.7.5)\n",
            "Requirement already satisfied: prompt-toolkit!=3.0.0,!=3.0.1,<3.1.0,>=2.0.0 in /usr/local/lib/python3.11/dist-packages (from ipython>=7.23.1->ipykernel->vedicastro) (3.0.51)\n",
            "Requirement already satisfied: pygments in /usr/local/lib/python3.11/dist-packages (from ipython>=7.23.1->ipykernel->vedicastro) (2.19.2)\n",
            "Requirement already satisfied: backcall in /usr/local/lib/python3.11/dist-packages (from ipython>=7.23.1->ipykernel->vedicastro) (0.2.0)\n",
            "Requirement already satisfied: pexpect>4.3 in /usr/local/lib/python3.11/dist-packages (from ipython>=7.23.1->ipykernel->vedicastro) (4.9.0)\n",
            "Requirement already satisfied: jupyter-core>=4.6.0 in /usr/local/lib/python3.11/dist-packages (from jupyter-client>=6.1.12->ipykernel->vedicastro) (5.8.1)\n",
            "Requirement already satisfied: python-dateutil>=2.1 in /usr/local/lib/python3.11/dist-packages (from jupyter-client>=6.1.12->ipykernel->vedicastro) (2.9.0.post0)\n",
            "Requirement already satisfied: annotated-types>=0.6.0 in /usr/local/lib/python3.11/dist-packages (from pydantic!=1.8,!=1.8.1,!=2.0.0,!=2.0.1,!=2.1.0,<3.0.0,>=1.7.4->fastapi->vedicastro) (0.7.0)\n",
            "Requirement already satisfied: pydantic-core==2.33.2 in /usr/local/lib/python3.11/dist-packages (from pydantic!=1.8,!=1.8.1,!=2.0.0,!=2.0.1,!=2.1.0,<3.0.0,>=1.7.4->fastapi->vedicastro) (2.33.2)\n",
            "Requirement already satisfied: typing-inspection>=0.4.0 in /usr/local/lib/python3.11/dist-packages (from pydantic!=1.8,!=1.8.1,!=2.0.0,!=2.0.1,!=2.1.0,<3.0.0,>=1.7.4->fastapi->vedicastro) (0.4.1)\n",
            "Requirement already satisfied: anyio<5,>=3.6.2 in /usr/local/lib/python3.11/dist-packages (from starlette<0.47.0,>=0.40.0->fastapi->vedicastro) (4.9.0)\n",
            "Requirement already satisfied: idna>=2.8 in /usr/local/lib/python3.11/dist-packages (from anyio<5,>=3.6.2->starlette<0.47.0,>=0.40.0->fastapi->vedicastro) (3.10)\n",
            "Requirement already satisfied: sniffio>=1.1 in /usr/local/lib/python3.11/dist-packages (from anyio<5,>=3.6.2->starlette<0.47.0,>=0.40.0->fastapi->vedicastro) (1.3.1)\n",
            "Requirement already satisfied: parso<0.9.0,>=0.8.4 in /usr/local/lib/python3.11/dist-packages (from jedi>=0.16->ipython>=7.23.1->ipykernel->vedicastro) (0.8.4)\n",
            "Requirement already satisfied: platformdirs>=2.5 in /usr/local/lib/python3.11/dist-packages (from jupyter-core>=4.6.0->jupyter-client>=6.1.12->ipykernel->vedicastro) (4.3.8)\n",
            "Requirement already satisfied: ptyprocess>=0.5 in /usr/local/lib/python3.11/dist-packages (from pexpect>4.3->ipython>=7.23.1->ipykernel->vedicastro) (0.7.0)\n",
            "Requirement already satisfied: six>=1.5 in /usr/local/lib/python3.11/dist-packages (from python-dateutil>=2.1->jupyter-client>=6.1.12->ipykernel->vedicastro) (1.17.0)\n",
            "Downloading vedicastro-0.2.1-py3-none-any.whl (18 kB)\n",
            "Downloading pyswisseph-2.10.3.2-cp311-cp311-manylinux_2_17_x86_64.manylinux2014_x86_64.whl (1.8 MB)\n",
            "\u001b[2K   \u001b[90m━━━━━━━━━━━━━━━━━━━━━━━━━━━━━━━━━━━━━━━━\u001b[0m \u001b[32m1.8/1.8 MB\u001b[0m \u001b[31m27.6 MB/s\u001b[0m eta \u001b[36m0:00:00\u001b[0m\n",
            "\u001b[?25hDownloading jedi-0.19.2-py2.py3-none-any.whl (1.6 MB)\n",
            "\u001b[2K   \u001b[90m━━━━━━━━━━━━━━━━━━━━━━━━━━━━━━━━━━━━━━━━\u001b[0m \u001b[32m1.6/1.6 MB\u001b[0m \u001b[31m46.0 MB/s\u001b[0m eta \u001b[36m0:00:00\u001b[0m\n",
            "\u001b[?25hInstalling collected packages: pyswisseph, jedi, vedicastro\n",
            "Successfully installed jedi-0.19.2 pyswisseph-2.10.3.2 vedicastro-0.2.1\n"
          ]
        }
      ],
      "source": [
        "!pip install vedicastro"
      ]
    },
    {
      "cell_type": "code",
      "source": [
        "!pip install git+https://github.com/diliprk/flatlib.git@sidereal#egg=flatlib"
      ],
      "metadata": {
        "colab": {
          "base_uri": "https://localhost:8080/"
        },
        "id": "M8Xr_0BAlpf3",
        "outputId": "1ef759d2-0c97-44e5-c26b-f49acedb82c6"
      },
      "execution_count": 2,
      "outputs": [
        {
          "output_type": "stream",
          "name": "stdout",
          "text": [
            "Collecting flatlib\n",
            "  Cloning https://github.com/diliprk/flatlib.git (to revision sidereal) to /tmp/pip-install-3bkucbwu/flatlib_e107fd6e11764b9b91e316ee1706aa4e\n",
            "  Running command git clone --filter=blob:none --quiet https://github.com/diliprk/flatlib.git /tmp/pip-install-3bkucbwu/flatlib_e107fd6e11764b9b91e316ee1706aa4e\n",
            "  Resolved https://github.com/diliprk/flatlib.git to commit 2618c348ce1ab2588548f935ff65f031630b4872\n",
            "  Preparing metadata (setup.py) ... \u001b[?25l\u001b[?25hdone\n",
            "Requirement already satisfied: pyswisseph in /usr/local/lib/python3.11/dist-packages (from flatlib) (2.10.3.2)\n",
            "Building wheels for collected packages: flatlib\n",
            "  Building wheel for flatlib (setup.py) ... \u001b[?25l\u001b[?25hdone\n",
            "  Created wheel for flatlib: filename=flatlib-0.3.1.dev0-py3-none-any.whl size=5713450 sha256=b93aea556cd21c15aaaa4b063f78c71edbdba9d5c7ca7d7b5da8ee8fbe4d446c\n",
            "  Stored in directory: /tmp/pip-ephem-wheel-cache-nqvlqec0/wheels/62/3d/62/d2a67ec319558b2860c433f3816ab8accf317edba4302c699f\n",
            "Successfully built flatlib\n",
            "Installing collected packages: flatlib\n",
            "Successfully installed flatlib-0.3.1.dev0\n"
          ]
        }
      ]
    },
    {
      "cell_type": "code",
      "source": [
        "from vedicastro.VedicAstro import VedicHoroscopeData\n",
        "from vedicastro.utils import pretty_data_table\n",
        "from pprint import pprint\n",
        "import polars as pl"
      ],
      "metadata": {
        "id": "hXtXnUdnl0to"
      },
      "execution_count": 3,
      "outputs": []
    },
    {
      "cell_type": "code",
      "source": [
        "year = 2004\n",
        "month =  11\n",
        "day = 28\n",
        "hour = 10\n",
        "minute = 10\n",
        "secs = 0\n",
        "latitude, longitude, utc = 26.7606, 83.3732, \"5:30\" ## New Delhi\n",
        "ayan = \"Lahiri\"\n",
        "house_system = \"Placidus\" # Default House system for Krishnamurti Paddhati system"
      ],
      "metadata": {
        "id": "R9VKCCg_l4lS"
      },
      "execution_count": 4,
      "outputs": []
    },
    {
      "cell_type": "code",
      "source": [
        "vhd = VedicHoroscopeData(year = year, month = month, day = day, hour = hour, minute = minute, second = secs, utc = utc,\n",
        "                        latitude = latitude, longitude = longitude, ayanamsa = ayan, house_system = house_system)\n",
        "vhd.ayanamsa, vhd.house_system"
      ],
      "metadata": {
        "colab": {
          "base_uri": "https://localhost:8080/"
        },
        "id": "6eulGqe5mbWM",
        "outputId": "d4e333b7-bb54-4160-e405-ae576d8abf2f"
      },
      "execution_count": 5,
      "outputs": [
        {
          "output_type": "execute_result",
          "data": {
            "text/plain": [
              "('Lahiri', 'Placidus')"
            ]
          },
          "metadata": {},
          "execution_count": 5
        }
      ]
    },
    {
      "cell_type": "code",
      "source": [
        "chart = vhd.generate_chart()\n",
        "\n",
        "for planet in chart.objects:\n",
        "    print(planet.id, '-' ,planet.lon)"
      ],
      "metadata": {
        "colab": {
          "base_uri": "https://localhost:8080/"
        },
        "id": "95LipSiomiyh",
        "outputId": "0c83d9fc-279c-4614-d967-0f955907eca9"
      },
      "execution_count": 6,
      "outputs": [
        {
          "output_type": "stream",
          "name": "stdout",
          "text": [
            "Sun - 222.36774432674756\n",
            "Moon - 57.35360262881261\n",
            "Mercury - 242.40086209284186\n",
            "Venus - 193.03997336667194\n",
            "Mars - 197.42340863404485\n",
            "Jupiter - 168.85319639994646\n",
            "Saturn - 93.05282782044968\n",
            "Uranus - 309.06438234122686\n",
            "Neptune - 289.0219270828368\n",
            "Pluto - 237.53941173418258\n",
            "Chiron - 268.9241385446176\n",
            "North Node - 6.188943494759809\n",
            "South Node - 186.1889434947598\n",
            "Syzygy - 40.99526786843838\n",
            "Pars Fortuna - 132.76829045128224\n"
          ]
        }
      ]
    },
    {
      "cell_type": "code",
      "source": [
        "planet_in_house = vhd.get_planet_in_house(houses_chart = chart, planets_chart = chart)\n",
        "pprint(planet_in_house)"
      ],
      "metadata": {
        "colab": {
          "base_uri": "https://localhost:8080/"
        },
        "id": "BCagx816msnQ",
        "outputId": "71220e83-8b33-4690-d2c3-e4c2850e01ac"
      },
      "execution_count": 7,
      "outputs": [
        {
          "output_type": "stream",
          "name": "stdout",
          "text": [
            "{'Chiron': 12,\n",
            " 'Fortuna': 8,\n",
            " 'Jupiter': 9,\n",
            " 'Ketu': 9,\n",
            " 'Mars': 9,\n",
            " 'Mercury': 11,\n",
            " 'Moon': 5,\n",
            " 'Neptune': 1,\n",
            " 'Pluto': 11,\n",
            " 'Rahu': 3,\n",
            " 'Saturn': 6,\n",
            " 'Sun': 10,\n",
            " 'Syzygy': 4,\n",
            " 'Uranus': 1,\n",
            " 'Venus': 9}\n"
          ]
        }
      ]
    },
    {
      "cell_type": "code",
      "source": [
        "planets_data = vhd.get_planets_data_from_chart(chart)\n",
        "planets_df = pl.DataFrame(planets_data)\n",
        "# planets_df.select([\"Object\", \"LonDecDeg\", \"Nakshatra\", \"RasiLord\", \"NakshatraLord\", \"SubLord\"])\n",
        "planets_df"
      ],
      "metadata": {
        "colab": {
          "base_uri": "https://localhost:8080/",
          "height": 443
        },
        "id": "iJfHHDwlnUqG",
        "outputId": "c35ec913-d77a-4db6-e6f3-059f24429985"
      },
      "execution_count": 8,
      "outputs": [
        {
          "output_type": "execute_result",
          "data": {
            "text/plain": [
              "shape: (16, 13)\n",
              "┌─────────┬─────────────┬────────────┬───────────┬───┬────────────┬─────────┬────────────┬─────────┐\n",
              "│ Object  ┆ Rasi        ┆ isRetroGra ┆ LonDecDeg ┆ … ┆ NakshatraL ┆ SubLord ┆ SubSubLord ┆ HouseNr │\n",
              "│ ---     ┆ ---         ┆ de         ┆ ---       ┆   ┆ ord        ┆ ---     ┆ ---        ┆ ---     │\n",
              "│ str     ┆ str         ┆ ---        ┆ f64       ┆   ┆ ---        ┆ str     ┆ str        ┆ i64     │\n",
              "│         ┆             ┆ bool       ┆           ┆   ┆ str        ┆         ┆            ┆         │\n",
              "╞═════════╪═════════════╪════════════╪═══════════╪═══╪════════════╪═════════╪════════════╪═════════╡\n",
              "│ Asc     ┆ Capricorn   ┆ null       ┆ 273.859   ┆ … ┆ Sun        ┆ Saturn  ┆ Venus      ┆ 1       │\n",
              "│ Sun     ┆ Scorpio     ┆ false      ┆ 222.368   ┆ … ┆ Saturn     ┆ Mars    ┆ Jupiter    ┆ 10      │\n",
              "│ Moon    ┆ Taurus      ┆ false      ┆ 57.354    ┆ … ┆ Mars       ┆ Jupiter ┆ Sun        ┆ 5       │\n",
              "│ Mercury ┆ Sagittarius ┆ false      ┆ 242.401   ┆ … ┆ Ketu       ┆ Venus   ┆ Saturn     ┆ 11      │\n",
              "│ Venus   ┆ Libra       ┆ false      ┆ 193.04    ┆ … ┆ Rahu       ┆ Mercury ┆ Venus      ┆ 9       │\n",
              "│ …       ┆ …           ┆ …          ┆ …         ┆ … ┆ …          ┆ …       ┆ …          ┆ …       │\n",
              "│ Chiron  ┆ Sagittarius ┆ false      ┆ 268.924   ┆ … ┆ Sun        ┆ Mars    ┆ Mercury    ┆ 12      │\n",
              "│ Rahu    ┆ Aries       ┆ true       ┆ 6.189     ┆ … ┆ Ketu       ┆ Rahu    ┆ Saturn     ┆ 3       │\n",
              "│ Ketu    ┆ Libra       ┆ true       ┆ 186.189   ┆ … ┆ Mars       ┆ Moon    ┆ Saturn     ┆ 9       │\n",
              "│ Syzygy  ┆ Taurus      ┆ false      ┆ 40.995    ┆ … ┆ Moon       ┆ Moon    ┆ Venus      ┆ 4       │\n",
              "│ Fortuna ┆ Leo         ┆ false      ┆ 132.768   ┆ … ┆ Ketu       ┆ Mercury ┆ Rahu       ┆ 8       │\n",
              "└─────────┴─────────────┴────────────┴───────────┴───┴────────────┴─────────┴────────────┴─────────┘"
            ],
            "text/html": [
              "<div><style>\n",
              ".dataframe > thead > tr,\n",
              ".dataframe > tbody > tr {\n",
              "  text-align: right;\n",
              "  white-space: pre-wrap;\n",
              "}\n",
              "</style>\n",
              "<small>shape: (16, 13)</small><table border=\"1\" class=\"dataframe\"><thead><tr><th>Object</th><th>Rasi</th><th>isRetroGrade</th><th>LonDecDeg</th><th>SignLonDMS</th><th>SignLonDecDeg</th><th>LatDMS</th><th>Nakshatra</th><th>RasiLord</th><th>NakshatraLord</th><th>SubLord</th><th>SubSubLord</th><th>HouseNr</th></tr><tr><td>str</td><td>str</td><td>bool</td><td>f64</td><td>str</td><td>f64</td><td>str</td><td>str</td><td>str</td><td>str</td><td>str</td><td>str</td><td>i64</td></tr></thead><tbody><tr><td>&quot;Asc&quot;</td><td>&quot;Capricorn&quot;</td><td>null</td><td>273.859</td><td>&quot;+03:51:34&quot;</td><td>3.8594</td><td>null</td><td>&quot;UttaraAshadha&quot;</td><td>&quot;Saturn&quot;</td><td>&quot;Sun&quot;</td><td>&quot;Saturn&quot;</td><td>&quot;Venus&quot;</td><td>1</td></tr><tr><td>&quot;Sun&quot;</td><td>&quot;Scorpio&quot;</td><td>false</td><td>222.368</td><td>&quot;+12:22:04&quot;</td><td>12.368</td><td>&quot;+01:00:44&quot;</td><td>&quot;Anuradha&quot;</td><td>&quot;Mars&quot;</td><td>&quot;Saturn&quot;</td><td>&quot;Mars&quot;</td><td>&quot;Jupiter&quot;</td><td>10</td></tr><tr><td>&quot;Moon&quot;</td><td>&quot;Taurus&quot;</td><td>false</td><td>57.354</td><td>&quot;+27:21:13&quot;</td><td>27.354</td><td>&quot;+11:59:26&quot;</td><td>&quot;Mrigashīrsha&quot;</td><td>&quot;Venus&quot;</td><td>&quot;Mars&quot;</td><td>&quot;Jupiter&quot;</td><td>&quot;Sun&quot;</td><td>5</td></tr><tr><td>&quot;Mercury&quot;</td><td>&quot;Sagittarius&quot;</td><td>false</td><td>242.401</td><td>&quot;+02:24:03&quot;</td><td>2.401</td><td>&quot;+00:21:02&quot;</td><td>&quot;Mula&quot;</td><td>&quot;Jupiter&quot;</td><td>&quot;Ketu&quot;</td><td>&quot;Venus&quot;</td><td>&quot;Saturn&quot;</td><td>11</td></tr><tr><td>&quot;Venus&quot;</td><td>&quot;Libra&quot;</td><td>false</td><td>193.04</td><td>&quot;+13:02:24&quot;</td><td>13.04</td><td>&quot;+01:14:19&quot;</td><td>&quot;Svati&quot;</td><td>&quot;Venus&quot;</td><td>&quot;Rahu&quot;</td><td>&quot;Mercury&quot;</td><td>&quot;Venus&quot;</td><td>9</td></tr><tr><td>&hellip;</td><td>&hellip;</td><td>&hellip;</td><td>&hellip;</td><td>&hellip;</td><td>&hellip;</td><td>&hellip;</td><td>&hellip;</td><td>&hellip;</td><td>&hellip;</td><td>&hellip;</td><td>&hellip;</td><td>&hellip;</td></tr><tr><td>&quot;Chiron&quot;</td><td>&quot;Sagittarius&quot;</td><td>false</td><td>268.924</td><td>&quot;+28:55:27&quot;</td><td>28.924</td><td>&quot;+00:04:10&quot;</td><td>&quot;UttaraAshadha&quot;</td><td>&quot;Jupiter&quot;</td><td>&quot;Sun&quot;</td><td>&quot;Mars&quot;</td><td>&quot;Mercury&quot;</td><td>12</td></tr><tr><td>&quot;Rahu&quot;</td><td>&quot;Aries&quot;</td><td>true</td><td>6.189</td><td>&quot;+06:11:20&quot;</td><td>6.189</td><td>&quot;-00:03:11&quot;</td><td>&quot;Ashwini&quot;</td><td>&quot;Mars&quot;</td><td>&quot;Ketu&quot;</td><td>&quot;Rahu&quot;</td><td>&quot;Saturn&quot;</td><td>3</td></tr><tr><td>&quot;Ketu&quot;</td><td>&quot;Libra&quot;</td><td>true</td><td>186.189</td><td>&quot;+06:11:20&quot;</td><td>6.189</td><td>&quot;-00:03:11&quot;</td><td>&quot;Chitra&quot;</td><td>&quot;Venus&quot;</td><td>&quot;Mars&quot;</td><td>&quot;Moon&quot;</td><td>&quot;Saturn&quot;</td><td>9</td></tr><tr><td>&quot;Syzygy&quot;</td><td>&quot;Taurus&quot;</td><td>false</td><td>40.995</td><td>&quot;+10:59:43&quot;</td><td>10.995</td><td>&quot;+12:08:32&quot;</td><td>&quot;Rohini&quot;</td><td>&quot;Venus&quot;</td><td>&quot;Moon&quot;</td><td>&quot;Moon&quot;</td><td>&quot;Venus&quot;</td><td>4</td></tr><tr><td>&quot;Fortuna&quot;</td><td>&quot;Leo&quot;</td><td>false</td><td>132.768</td><td>&quot;+12:46:06&quot;</td><td>12.768</td><td>&quot;+00:00:00&quot;</td><td>&quot;Maghā&quot;</td><td>&quot;Sun&quot;</td><td>&quot;Ketu&quot;</td><td>&quot;Mercury&quot;</td><td>&quot;Rahu&quot;</td><td>8</td></tr></tbody></table></div>"
            ]
          },
          "metadata": {},
          "execution_count": 8
        }
      ]
    }
  ]
}